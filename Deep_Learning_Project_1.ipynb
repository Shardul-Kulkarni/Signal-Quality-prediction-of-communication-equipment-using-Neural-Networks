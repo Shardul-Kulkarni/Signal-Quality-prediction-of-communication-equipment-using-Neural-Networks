{
 "cells": [
  {
   "cell_type": "markdown",
   "id": "fe1ad584",
   "metadata": {},
   "source": [
    "# 1. Data import and Understanding"
   ]
  },
  {
   "cell_type": "code",
   "execution_count": 69,
   "id": "93250321",
   "metadata": {},
   "outputs": [],
   "source": [
    "# Read libraries\n",
    "import numpy as np\n",
    "import pandas as pd\n",
    "import matplotlib.pyplot as plt"
   ]
  },
  {
   "cell_type": "code",
   "execution_count": 2,
   "id": "c7c250c6",
   "metadata": {},
   "outputs": [],
   "source": [
    "import tensorflow as tf"
   ]
  },
  {
   "cell_type": "code",
   "execution_count": 3,
   "id": "557d4860",
   "metadata": {},
   "outputs": [],
   "source": [
    "import keras"
   ]
  },
  {
   "cell_type": "code",
   "execution_count": 86,
   "id": "264ffe70",
   "metadata": {},
   "outputs": [],
   "source": [
    "# import data\n",
    "df = pd.read_csv('Signal.csv')"
   ]
  },
  {
   "cell_type": "code",
   "execution_count": 87,
   "id": "09cc6af8",
   "metadata": {},
   "outputs": [
    {
     "data": {
      "text/html": [
       "<div>\n",
       "<style scoped>\n",
       "    .dataframe tbody tr th:only-of-type {\n",
       "        vertical-align: middle;\n",
       "    }\n",
       "\n",
       "    .dataframe tbody tr th {\n",
       "        vertical-align: top;\n",
       "    }\n",
       "\n",
       "    .dataframe thead th {\n",
       "        text-align: right;\n",
       "    }\n",
       "</style>\n",
       "<table border=\"1\" class=\"dataframe\">\n",
       "  <thead>\n",
       "    <tr style=\"text-align: right;\">\n",
       "      <th></th>\n",
       "      <th>Parameter 1</th>\n",
       "      <th>Parameter 2</th>\n",
       "      <th>Parameter 3</th>\n",
       "      <th>Parameter 4</th>\n",
       "      <th>Parameter 5</th>\n",
       "      <th>Parameter 6</th>\n",
       "      <th>Parameter 7</th>\n",
       "      <th>Parameter 8</th>\n",
       "      <th>Parameter 9</th>\n",
       "      <th>Parameter 10</th>\n",
       "      <th>Parameter 11</th>\n",
       "      <th>Signal_Strength</th>\n",
       "    </tr>\n",
       "  </thead>\n",
       "  <tbody>\n",
       "    <tr>\n",
       "      <th>0</th>\n",
       "      <td>7.4</td>\n",
       "      <td>0.700</td>\n",
       "      <td>0.00</td>\n",
       "      <td>1.9</td>\n",
       "      <td>0.076</td>\n",
       "      <td>11.0</td>\n",
       "      <td>34.0</td>\n",
       "      <td>0.99780</td>\n",
       "      <td>3.51</td>\n",
       "      <td>0.56</td>\n",
       "      <td>9.4</td>\n",
       "      <td>5</td>\n",
       "    </tr>\n",
       "    <tr>\n",
       "      <th>1</th>\n",
       "      <td>7.8</td>\n",
       "      <td>0.880</td>\n",
       "      <td>0.00</td>\n",
       "      <td>2.6</td>\n",
       "      <td>0.098</td>\n",
       "      <td>25.0</td>\n",
       "      <td>67.0</td>\n",
       "      <td>0.99680</td>\n",
       "      <td>3.20</td>\n",
       "      <td>0.68</td>\n",
       "      <td>9.8</td>\n",
       "      <td>5</td>\n",
       "    </tr>\n",
       "    <tr>\n",
       "      <th>2</th>\n",
       "      <td>7.8</td>\n",
       "      <td>0.760</td>\n",
       "      <td>0.04</td>\n",
       "      <td>2.3</td>\n",
       "      <td>0.092</td>\n",
       "      <td>15.0</td>\n",
       "      <td>54.0</td>\n",
       "      <td>0.99700</td>\n",
       "      <td>3.26</td>\n",
       "      <td>0.65</td>\n",
       "      <td>9.8</td>\n",
       "      <td>5</td>\n",
       "    </tr>\n",
       "    <tr>\n",
       "      <th>3</th>\n",
       "      <td>11.2</td>\n",
       "      <td>0.280</td>\n",
       "      <td>0.56</td>\n",
       "      <td>1.9</td>\n",
       "      <td>0.075</td>\n",
       "      <td>17.0</td>\n",
       "      <td>60.0</td>\n",
       "      <td>0.99800</td>\n",
       "      <td>3.16</td>\n",
       "      <td>0.58</td>\n",
       "      <td>9.8</td>\n",
       "      <td>6</td>\n",
       "    </tr>\n",
       "    <tr>\n",
       "      <th>4</th>\n",
       "      <td>7.4</td>\n",
       "      <td>0.700</td>\n",
       "      <td>0.00</td>\n",
       "      <td>1.9</td>\n",
       "      <td>0.076</td>\n",
       "      <td>11.0</td>\n",
       "      <td>34.0</td>\n",
       "      <td>0.99780</td>\n",
       "      <td>3.51</td>\n",
       "      <td>0.56</td>\n",
       "      <td>9.4</td>\n",
       "      <td>5</td>\n",
       "    </tr>\n",
       "    <tr>\n",
       "      <th>...</th>\n",
       "      <td>...</td>\n",
       "      <td>...</td>\n",
       "      <td>...</td>\n",
       "      <td>...</td>\n",
       "      <td>...</td>\n",
       "      <td>...</td>\n",
       "      <td>...</td>\n",
       "      <td>...</td>\n",
       "      <td>...</td>\n",
       "      <td>...</td>\n",
       "      <td>...</td>\n",
       "      <td>...</td>\n",
       "    </tr>\n",
       "    <tr>\n",
       "      <th>1594</th>\n",
       "      <td>6.2</td>\n",
       "      <td>0.600</td>\n",
       "      <td>0.08</td>\n",
       "      <td>2.0</td>\n",
       "      <td>0.090</td>\n",
       "      <td>32.0</td>\n",
       "      <td>44.0</td>\n",
       "      <td>0.99490</td>\n",
       "      <td>3.45</td>\n",
       "      <td>0.58</td>\n",
       "      <td>10.5</td>\n",
       "      <td>5</td>\n",
       "    </tr>\n",
       "    <tr>\n",
       "      <th>1595</th>\n",
       "      <td>5.9</td>\n",
       "      <td>0.550</td>\n",
       "      <td>0.10</td>\n",
       "      <td>2.2</td>\n",
       "      <td>0.062</td>\n",
       "      <td>39.0</td>\n",
       "      <td>51.0</td>\n",
       "      <td>0.99512</td>\n",
       "      <td>3.52</td>\n",
       "      <td>0.76</td>\n",
       "      <td>11.2</td>\n",
       "      <td>6</td>\n",
       "    </tr>\n",
       "    <tr>\n",
       "      <th>1596</th>\n",
       "      <td>6.3</td>\n",
       "      <td>0.510</td>\n",
       "      <td>0.13</td>\n",
       "      <td>2.3</td>\n",
       "      <td>0.076</td>\n",
       "      <td>29.0</td>\n",
       "      <td>40.0</td>\n",
       "      <td>0.99574</td>\n",
       "      <td>3.42</td>\n",
       "      <td>0.75</td>\n",
       "      <td>11.0</td>\n",
       "      <td>6</td>\n",
       "    </tr>\n",
       "    <tr>\n",
       "      <th>1597</th>\n",
       "      <td>5.9</td>\n",
       "      <td>0.645</td>\n",
       "      <td>0.12</td>\n",
       "      <td>2.0</td>\n",
       "      <td>0.075</td>\n",
       "      <td>32.0</td>\n",
       "      <td>44.0</td>\n",
       "      <td>0.99547</td>\n",
       "      <td>3.57</td>\n",
       "      <td>0.71</td>\n",
       "      <td>10.2</td>\n",
       "      <td>5</td>\n",
       "    </tr>\n",
       "    <tr>\n",
       "      <th>1598</th>\n",
       "      <td>6.0</td>\n",
       "      <td>0.310</td>\n",
       "      <td>0.47</td>\n",
       "      <td>3.6</td>\n",
       "      <td>0.067</td>\n",
       "      <td>18.0</td>\n",
       "      <td>42.0</td>\n",
       "      <td>0.99549</td>\n",
       "      <td>3.39</td>\n",
       "      <td>0.66</td>\n",
       "      <td>11.0</td>\n",
       "      <td>6</td>\n",
       "    </tr>\n",
       "  </tbody>\n",
       "</table>\n",
       "<p>1599 rows × 12 columns</p>\n",
       "</div>"
      ],
      "text/plain": [
       "      Parameter 1  Parameter 2  Parameter 3  Parameter 4  Parameter 5  \\\n",
       "0             7.4        0.700         0.00          1.9        0.076   \n",
       "1             7.8        0.880         0.00          2.6        0.098   \n",
       "2             7.8        0.760         0.04          2.3        0.092   \n",
       "3            11.2        0.280         0.56          1.9        0.075   \n",
       "4             7.4        0.700         0.00          1.9        0.076   \n",
       "...           ...          ...          ...          ...          ...   \n",
       "1594          6.2        0.600         0.08          2.0        0.090   \n",
       "1595          5.9        0.550         0.10          2.2        0.062   \n",
       "1596          6.3        0.510         0.13          2.3        0.076   \n",
       "1597          5.9        0.645         0.12          2.0        0.075   \n",
       "1598          6.0        0.310         0.47          3.6        0.067   \n",
       "\n",
       "      Parameter 6  Parameter 7  Parameter 8  Parameter 9  Parameter 10  \\\n",
       "0            11.0         34.0      0.99780         3.51          0.56   \n",
       "1            25.0         67.0      0.99680         3.20          0.68   \n",
       "2            15.0         54.0      0.99700         3.26          0.65   \n",
       "3            17.0         60.0      0.99800         3.16          0.58   \n",
       "4            11.0         34.0      0.99780         3.51          0.56   \n",
       "...           ...          ...          ...          ...           ...   \n",
       "1594         32.0         44.0      0.99490         3.45          0.58   \n",
       "1595         39.0         51.0      0.99512         3.52          0.76   \n",
       "1596         29.0         40.0      0.99574         3.42          0.75   \n",
       "1597         32.0         44.0      0.99547         3.57          0.71   \n",
       "1598         18.0         42.0      0.99549         3.39          0.66   \n",
       "\n",
       "      Parameter 11  Signal_Strength  \n",
       "0              9.4                5  \n",
       "1              9.8                5  \n",
       "2              9.8                5  \n",
       "3              9.8                6  \n",
       "4              9.4                5  \n",
       "...            ...              ...  \n",
       "1594          10.5                5  \n",
       "1595          11.2                6  \n",
       "1596          11.0                6  \n",
       "1597          10.2                5  \n",
       "1598          11.0                6  \n",
       "\n",
       "[1599 rows x 12 columns]"
      ]
     },
     "execution_count": 87,
     "metadata": {},
     "output_type": "execute_result"
    }
   ],
   "source": [
    "df"
   ]
  },
  {
   "cell_type": "code",
   "execution_count": 88,
   "id": "dd28e736",
   "metadata": {},
   "outputs": [
    {
     "data": {
      "text/plain": [
       "Parameter 1        0\n",
       "Parameter 2        0\n",
       "Parameter 3        0\n",
       "Parameter 4        0\n",
       "Parameter 5        0\n",
       "Parameter 6        0\n",
       "Parameter 7        0\n",
       "Parameter 8        0\n",
       "Parameter 9        0\n",
       "Parameter 10       0\n",
       "Parameter 11       0\n",
       "Signal_Strength    0\n",
       "dtype: int64"
      ]
     },
     "execution_count": 88,
     "metadata": {},
     "output_type": "execute_result"
    }
   ],
   "source": [
    "# check missing values\n",
    "df.isnull().sum() # no nulls present"
   ]
  },
  {
   "cell_type": "code",
   "execution_count": 89,
   "id": "aaedcc71",
   "metadata": {},
   "outputs": [
    {
     "data": {
      "text/html": [
       "<div>\n",
       "<style scoped>\n",
       "    .dataframe tbody tr th:only-of-type {\n",
       "        vertical-align: middle;\n",
       "    }\n",
       "\n",
       "    .dataframe tbody tr th {\n",
       "        vertical-align: top;\n",
       "    }\n",
       "\n",
       "    .dataframe thead th {\n",
       "        text-align: right;\n",
       "    }\n",
       "</style>\n",
       "<table border=\"1\" class=\"dataframe\">\n",
       "  <thead>\n",
       "    <tr style=\"text-align: right;\">\n",
       "      <th></th>\n",
       "      <th>Parameter 1</th>\n",
       "      <th>Parameter 2</th>\n",
       "      <th>Parameter 3</th>\n",
       "      <th>Parameter 4</th>\n",
       "      <th>Parameter 5</th>\n",
       "      <th>Parameter 6</th>\n",
       "      <th>Parameter 7</th>\n",
       "      <th>Parameter 8</th>\n",
       "      <th>Parameter 9</th>\n",
       "      <th>Parameter 10</th>\n",
       "      <th>Parameter 11</th>\n",
       "      <th>Signal_Strength</th>\n",
       "    </tr>\n",
       "  </thead>\n",
       "  <tbody>\n",
       "    <tr>\n",
       "      <th>4</th>\n",
       "      <td>7.4</td>\n",
       "      <td>0.700</td>\n",
       "      <td>0.00</td>\n",
       "      <td>1.90</td>\n",
       "      <td>0.076</td>\n",
       "      <td>11.0</td>\n",
       "      <td>34.0</td>\n",
       "      <td>0.99780</td>\n",
       "      <td>3.51</td>\n",
       "      <td>0.56</td>\n",
       "      <td>9.4</td>\n",
       "      <td>5</td>\n",
       "    </tr>\n",
       "    <tr>\n",
       "      <th>11</th>\n",
       "      <td>7.5</td>\n",
       "      <td>0.500</td>\n",
       "      <td>0.36</td>\n",
       "      <td>6.10</td>\n",
       "      <td>0.071</td>\n",
       "      <td>17.0</td>\n",
       "      <td>102.0</td>\n",
       "      <td>0.99780</td>\n",
       "      <td>3.35</td>\n",
       "      <td>0.80</td>\n",
       "      <td>10.5</td>\n",
       "      <td>5</td>\n",
       "    </tr>\n",
       "    <tr>\n",
       "      <th>27</th>\n",
       "      <td>7.9</td>\n",
       "      <td>0.430</td>\n",
       "      <td>0.21</td>\n",
       "      <td>1.60</td>\n",
       "      <td>0.106</td>\n",
       "      <td>10.0</td>\n",
       "      <td>37.0</td>\n",
       "      <td>0.99660</td>\n",
       "      <td>3.17</td>\n",
       "      <td>0.91</td>\n",
       "      <td>9.5</td>\n",
       "      <td>5</td>\n",
       "    </tr>\n",
       "    <tr>\n",
       "      <th>40</th>\n",
       "      <td>7.3</td>\n",
       "      <td>0.450</td>\n",
       "      <td>0.36</td>\n",
       "      <td>5.90</td>\n",
       "      <td>0.074</td>\n",
       "      <td>12.0</td>\n",
       "      <td>87.0</td>\n",
       "      <td>0.99780</td>\n",
       "      <td>3.33</td>\n",
       "      <td>0.83</td>\n",
       "      <td>10.5</td>\n",
       "      <td>5</td>\n",
       "    </tr>\n",
       "    <tr>\n",
       "      <th>65</th>\n",
       "      <td>7.2</td>\n",
       "      <td>0.725</td>\n",
       "      <td>0.05</td>\n",
       "      <td>4.65</td>\n",
       "      <td>0.086</td>\n",
       "      <td>4.0</td>\n",
       "      <td>11.0</td>\n",
       "      <td>0.99620</td>\n",
       "      <td>3.41</td>\n",
       "      <td>0.39</td>\n",
       "      <td>10.9</td>\n",
       "      <td>5</td>\n",
       "    </tr>\n",
       "    <tr>\n",
       "      <th>...</th>\n",
       "      <td>...</td>\n",
       "      <td>...</td>\n",
       "      <td>...</td>\n",
       "      <td>...</td>\n",
       "      <td>...</td>\n",
       "      <td>...</td>\n",
       "      <td>...</td>\n",
       "      <td>...</td>\n",
       "      <td>...</td>\n",
       "      <td>...</td>\n",
       "      <td>...</td>\n",
       "      <td>...</td>\n",
       "    </tr>\n",
       "    <tr>\n",
       "      <th>1563</th>\n",
       "      <td>7.2</td>\n",
       "      <td>0.695</td>\n",
       "      <td>0.13</td>\n",
       "      <td>2.00</td>\n",
       "      <td>0.076</td>\n",
       "      <td>12.0</td>\n",
       "      <td>20.0</td>\n",
       "      <td>0.99546</td>\n",
       "      <td>3.29</td>\n",
       "      <td>0.54</td>\n",
       "      <td>10.1</td>\n",
       "      <td>5</td>\n",
       "    </tr>\n",
       "    <tr>\n",
       "      <th>1564</th>\n",
       "      <td>7.2</td>\n",
       "      <td>0.695</td>\n",
       "      <td>0.13</td>\n",
       "      <td>2.00</td>\n",
       "      <td>0.076</td>\n",
       "      <td>12.0</td>\n",
       "      <td>20.0</td>\n",
       "      <td>0.99546</td>\n",
       "      <td>3.29</td>\n",
       "      <td>0.54</td>\n",
       "      <td>10.1</td>\n",
       "      <td>5</td>\n",
       "    </tr>\n",
       "    <tr>\n",
       "      <th>1567</th>\n",
       "      <td>7.2</td>\n",
       "      <td>0.695</td>\n",
       "      <td>0.13</td>\n",
       "      <td>2.00</td>\n",
       "      <td>0.076</td>\n",
       "      <td>12.0</td>\n",
       "      <td>20.0</td>\n",
       "      <td>0.99546</td>\n",
       "      <td>3.29</td>\n",
       "      <td>0.54</td>\n",
       "      <td>10.1</td>\n",
       "      <td>5</td>\n",
       "    </tr>\n",
       "    <tr>\n",
       "      <th>1581</th>\n",
       "      <td>6.2</td>\n",
       "      <td>0.560</td>\n",
       "      <td>0.09</td>\n",
       "      <td>1.70</td>\n",
       "      <td>0.053</td>\n",
       "      <td>24.0</td>\n",
       "      <td>32.0</td>\n",
       "      <td>0.99402</td>\n",
       "      <td>3.54</td>\n",
       "      <td>0.60</td>\n",
       "      <td>11.3</td>\n",
       "      <td>5</td>\n",
       "    </tr>\n",
       "    <tr>\n",
       "      <th>1596</th>\n",
       "      <td>6.3</td>\n",
       "      <td>0.510</td>\n",
       "      <td>0.13</td>\n",
       "      <td>2.30</td>\n",
       "      <td>0.076</td>\n",
       "      <td>29.0</td>\n",
       "      <td>40.0</td>\n",
       "      <td>0.99574</td>\n",
       "      <td>3.42</td>\n",
       "      <td>0.75</td>\n",
       "      <td>11.0</td>\n",
       "      <td>6</td>\n",
       "    </tr>\n",
       "  </tbody>\n",
       "</table>\n",
       "<p>240 rows × 12 columns</p>\n",
       "</div>"
      ],
      "text/plain": [
       "      Parameter 1  Parameter 2  Parameter 3  Parameter 4  Parameter 5  \\\n",
       "4             7.4        0.700         0.00         1.90        0.076   \n",
       "11            7.5        0.500         0.36         6.10        0.071   \n",
       "27            7.9        0.430         0.21         1.60        0.106   \n",
       "40            7.3        0.450         0.36         5.90        0.074   \n",
       "65            7.2        0.725         0.05         4.65        0.086   \n",
       "...           ...          ...          ...          ...          ...   \n",
       "1563          7.2        0.695         0.13         2.00        0.076   \n",
       "1564          7.2        0.695         0.13         2.00        0.076   \n",
       "1567          7.2        0.695         0.13         2.00        0.076   \n",
       "1581          6.2        0.560         0.09         1.70        0.053   \n",
       "1596          6.3        0.510         0.13         2.30        0.076   \n",
       "\n",
       "      Parameter 6  Parameter 7  Parameter 8  Parameter 9  Parameter 10  \\\n",
       "4            11.0         34.0      0.99780         3.51          0.56   \n",
       "11           17.0        102.0      0.99780         3.35          0.80   \n",
       "27           10.0         37.0      0.99660         3.17          0.91   \n",
       "40           12.0         87.0      0.99780         3.33          0.83   \n",
       "65            4.0         11.0      0.99620         3.41          0.39   \n",
       "...           ...          ...          ...          ...           ...   \n",
       "1563         12.0         20.0      0.99546         3.29          0.54   \n",
       "1564         12.0         20.0      0.99546         3.29          0.54   \n",
       "1567         12.0         20.0      0.99546         3.29          0.54   \n",
       "1581         24.0         32.0      0.99402         3.54          0.60   \n",
       "1596         29.0         40.0      0.99574         3.42          0.75   \n",
       "\n",
       "      Parameter 11  Signal_Strength  \n",
       "4              9.4                5  \n",
       "11            10.5                5  \n",
       "27             9.5                5  \n",
       "40            10.5                5  \n",
       "65            10.9                5  \n",
       "...            ...              ...  \n",
       "1563          10.1                5  \n",
       "1564          10.1                5  \n",
       "1567          10.1                5  \n",
       "1581          11.3                5  \n",
       "1596          11.0                6  \n",
       "\n",
       "[240 rows x 12 columns]"
      ]
     },
     "execution_count": 89,
     "metadata": {},
     "output_type": "execute_result"
    }
   ],
   "source": [
    "# check for duplicates\n",
    "duplicates = df[df.duplicated()]\n",
    "duplicates"
   ]
  },
  {
   "cell_type": "code",
   "execution_count": 90,
   "id": "fc316d53",
   "metadata": {},
   "outputs": [],
   "source": [
    "drop duplicates\n",
    "df.drop_duplicates(inplace=True)"
   ]
  },
  {
   "cell_type": "code",
   "execution_count": 91,
   "id": "04b8ecaf",
   "metadata": {},
   "outputs": [
    {
     "data": {
      "text/plain": [
       "(1359, 12)"
      ]
     },
     "execution_count": 91,
     "metadata": {},
     "output_type": "execute_result"
    }
   ],
   "source": [
    "df.shape"
   ]
  },
  {
   "cell_type": "code",
   "execution_count": 92,
   "id": "b78b0c20",
   "metadata": {},
   "outputs": [
    {
     "data": {
      "text/plain": [
       "<matplotlib.legend.Legend at 0x16c339c1bb0>"
      ]
     },
     "execution_count": 92,
     "metadata": {},
     "output_type": "execute_result"
    },
    {
     "data": {
      "image/png": "[encoded data removed]",
      "text/plain": [
       "<Figure size 432x288 with 1 Axes>"
      ]
     },
     "metadata": {
      "needs_background": "light"
     },
     "output_type": "display_data"
    }
   ],
   "source": [
    "# visualize distribution of target variable\n",
    "plt.plot(df.Signal_Strength,color='b',marker='*',label='Signal Strength')\n",
    "plt.legend()"
   ]
  },
  {
   "cell_type": "code",
   "execution_count": 93,
   "id": "9e3b9ddc",
   "metadata": {},
   "outputs": [
    {
     "data": {
      "text/plain": [
       "5    577\n",
       "6    535\n",
       "7    167\n",
       "4     53\n",
       "8     17\n",
       "3     10\n",
       "Name: Signal_Strength, dtype: int64"
      ]
     },
     "execution_count": 93,
     "metadata": {},
     "output_type": "execute_result"
    }
   ],
   "source": [
    "# check for class imbalance\n",
    "df.Signal_Strength.value_counts()"
   ]
  },
  {
   "cell_type": "markdown",
   "id": "c9f1b209",
   "metadata": {},
   "source": [
    "Insights from initial data analysis\n",
    "1. Given data is having class imbalance (more records of class 5,6 than class 3,4,7,8). so we need to do oversampling.\n",
    "2.There were 240 duplicates present in data, which are removed to reduce redundancy"
   ]
  },
  {
   "cell_type": "code",
   "execution_count": 94,
   "id": "ec77400a",
   "metadata": {},
   "outputs": [],
   "source": [
    "s3= df[df['Signal_Strength']==3]  \n",
    "s8= df[df['Signal_Strength']==8] \n",
    "s4=df[df['Signal_Strength']==4]  \n",
    "s7=df[df['Signal_Strength']==7]  "
   ]
  },
  {
   "cell_type": "code",
   "execution_count": 95,
   "id": "9cf50eb5",
   "metadata": {},
   "outputs": [],
   "source": [
    "df=pd.concat([df,s3,s3,s3,s3,s3,s3,s3,s3,s3,s3,s3,s3,s3,s3,s3,s3,s8,s8,s8,s8,s8,s8,s8,s8,s8,s8,s8,s4,s4,s4,s4,s4,s7])"
   ]
  },
  {
   "cell_type": "code",
   "execution_count": 96,
   "id": "e58e790b",
   "metadata": {},
   "outputs": [
    {
     "data": {
      "text/plain": [
       "5    577\n",
       "6    535\n",
       "7    334\n",
       "4    318\n",
       "8    204\n",
       "3    170\n",
       "Name: Signal_Strength, dtype: int64"
      ]
     },
     "execution_count": 96,
     "metadata": {},
     "output_type": "execute_result"
    }
   ],
   "source": [
    "df.Signal_Strength.value_counts()"
   ]
  },
  {
   "cell_type": "markdown",
   "id": "bea1737b",
   "metadata": {},
   "source": [
    "# 2.Data preprocessing"
   ]
  },
  {
   "cell_type": "code",
   "execution_count": 36,
   "id": "e3c61a1c",
   "metadata": {},
   "outputs": [],
   "source": [
    "from sklearn.model_selection import train_test_split"
   ]
  },
  {
   "cell_type": "code",
   "execution_count": 37,
   "id": "f739e4f4",
   "metadata": {},
   "outputs": [],
   "source": [
    "#train test split\n",
    "signal_train,signal_test= train_test_split(df,test_size=0.3)"
   ]
  },
  {
   "cell_type": "code",
   "execution_count": 38,
   "id": "d092079b",
   "metadata": {},
   "outputs": [],
   "source": [
    "signal_train_x=signal_train.iloc[:,0:-1]\n",
    "signal_train_y=signal_train.iloc[:,-1]"
   ]
  },
  {
   "cell_type": "code",
   "execution_count": 39,
   "id": "33cdfd03",
   "metadata": {},
   "outputs": [],
   "source": [
    "signal_test_x=signal_test.iloc[:,0:-1]\n",
    "signal_test_y=signal_test.iloc[:,-1]"
   ]
  },
  {
   "cell_type": "code",
   "execution_count": 40,
   "id": "e2caaf48",
   "metadata": {},
   "outputs": [],
   "source": [
    "# normalize data\n",
    "signal_train_x = tf.keras.utils.normalize(signal_train_x)\n",
    "signal_test_x = tf.keras.utils.normalize(signal_test_x)"
   ]
  },
  {
   "cell_type": "code",
   "execution_count": null,
   "id": "452c4a9a",
   "metadata": {},
   "outputs": [],
   "source": [
    "# transform labels into format acceptable by neural network\n",
    "signal_train_x=np.array(signal_train_x)\n",
    "signal_train_y=np.array(signal_train_y)"
   ]
  },
  {
   "cell_type": "markdown",
   "id": "28375dd0",
   "metadata": {},
   "source": [
    "# 3.Model Training & Evaluation using Neural Network"
   ]
  },
  {
   "cell_type": "code",
   "execution_count": 51,
   "id": "b1183d6f",
   "metadata": {},
   "outputs": [],
   "source": [
    "from keras.layers import Dropout"
   ]
  },
  {
   "cell_type": "code",
   "execution_count": 58,
   "id": "5d32fe96",
   "metadata": {},
   "outputs": [],
   "source": [
    "# design neural network to train classifier\n",
    "model = tf.keras.models.Sequential()\n",
    "model.add(tf.keras.layers.Dense(20,activation=tf.nn.relu))  # first hidden layer\n",
    "model.add(tf.keras.layers.Dense(20,activation=tf.nn.relu))  # second hidden layer\n",
    "model.add(tf.keras.layers.Dense(10,activation=tf.nn.relu))  #third hidden layer\n",
    "#model.add(tf.keras.layers.Dense(18,activation=tf.nn.relu))\n",
    "model.add(Dropout(0.15))  # 15% neurons dropped to avoid overfitting\n",
    "model.add(tf.keras.layers.Dense(6,activation=tf.nn.softmax))  # output layer\n",
    "adam= tf.keras.optimizers.Adam(learning_rate=0.01)\n",
    "\n",
    "model.compile(optimizer='adam',loss='mse',metrics=['accuracy'])\n",
    "#model.compile(optimizer='adam',loss='mse',metrics=['accuracy','mse'])"
   ]
  },
  {
   "cell_type": "code",
   "execution_count": 60,
   "id": "9402acaa",
   "metadata": {},
   "outputs": [
    {
     "name": "stdout",
     "output_type": "stream",
     "text": [
      "Epoch 1/10\n",
      "53/53 [==============================] - 1s 5ms/step - loss: 31.7815 - accuracy: 0.0955 - val_loss: 31.0913 - val_accuracy: 0.1779\n",
      "Epoch 2/10\n",
      "53/53 [==============================] - 0s 3ms/step - loss: 31.7814 - accuracy: 0.1095 - val_loss: 31.0913 - val_accuracy: 0.0998\n",
      "Epoch 3/10\n",
      "53/53 [==============================] - 0s 3ms/step - loss: 31.7814 - accuracy: 0.1141 - val_loss: 31.0913 - val_accuracy: 0.0907\n",
      "Epoch 4/10\n",
      "53/53 [==============================] - 0s 3ms/step - loss: 31.7814 - accuracy: 0.1727 - val_loss: 31.0913 - val_accuracy: 0.1851\n",
      "Epoch 5/10\n",
      "53/53 [==============================] - 0s 2ms/step - loss: 31.7814 - accuracy: 0.1632 - val_loss: 31.0913 - val_accuracy: 0.1706\n",
      "Epoch 6/10\n",
      "53/53 [==============================] - 0s 2ms/step - loss: 31.7814 - accuracy: 0.1655 - val_loss: 31.0913 - val_accuracy: 0.1706\n",
      "Epoch 7/10\n",
      "53/53 [==============================] - 0s 2ms/step - loss: 31.7814 - accuracy: 0.1364 - val_loss: 31.0913 - val_accuracy: 0.1724\n",
      "Epoch 8/10\n",
      "53/53 [==============================] - 0s 2ms/step - loss: 31.7814 - accuracy: 0.1377 - val_loss: 31.0913 - val_accuracy: 0.1724\n",
      "Epoch 9/10\n",
      "53/53 [==============================] - 0s 2ms/step - loss: 31.7814 - accuracy: 0.1214 - val_loss: 31.0913 - val_accuracy: 0.1270\n",
      "Epoch 10/10\n",
      "53/53 [==============================] - 0s 3ms/step - loss: 31.7814 - accuracy: 0.1086 - val_loss: 31.0913 - val_accuracy: 0.1724\n"
     ]
    }
   ],
   "source": [
    "#train the classifier using previously designed Architecture.\n",
    "model1 = model.fit(signal_train_x,signal_train_y,epochs=10,validation_split=0.2, batch_size=42)"
   ]
  },
  {
   "cell_type": "code",
   "execution_count": 61,
   "id": "849ff961",
   "metadata": {},
   "outputs": [
    {
     "name": "stdout",
     "output_type": "stream",
     "text": [
      "37/37 [==============================] - 0s 3ms/step\n"
     ]
    },
    {
     "data": {
      "text/plain": [
       "array([[0.16666473, 0.16666888, 0.16666509, 0.16666071, 0.16666934,\n",
       "        0.16667125],\n",
       "       [0.16666473, 0.16666888, 0.16666509, 0.16666071, 0.16666934,\n",
       "        0.16667125],\n",
       "       [0.16666473, 0.16666888, 0.16666509, 0.16666071, 0.16666934,\n",
       "        0.16667125],\n",
       "       ...,\n",
       "       [0.16666473, 0.16666888, 0.16666509, 0.16666071, 0.16666934,\n",
       "        0.16667125],\n",
       "       [0.16666473, 0.16666888, 0.16666509, 0.16666071, 0.16666934,\n",
       "        0.16667125],\n",
       "       [0.16666473, 0.16666888, 0.16666509, 0.16666071, 0.16666934,\n",
       "        0.16667125]], dtype=float32)"
      ]
     },
     "execution_count": 61,
     "metadata": {},
     "output_type": "execute_result"
    }
   ],
   "source": [
    "pred_val = model.predict(signal_test_x)\n",
    "pred_val"
   ]
  },
  {
   "cell_type": "code",
   "execution_count": 63,
   "id": "2b80799c",
   "metadata": {},
   "outputs": [
    {
     "data": {
      "text/plain": [
       "array([5, 5, 5, ..., 5, 5, 5], dtype=int64)"
      ]
     },
     "execution_count": 63,
     "metadata": {},
     "output_type": "execute_result"
    }
   ],
   "source": [
    "pred_classes = np.argmax(pred_val,axis=1)\n",
    "pred_classes"
   ]
  },
  {
   "cell_type": "code",
   "execution_count": 64,
   "id": "439c2e40",
   "metadata": {},
   "outputs": [],
   "source": [
    "from sklearn.metrics import confusion_matrix"
   ]
  },
  {
   "cell_type": "code",
   "execution_count": 65,
   "id": "5fed814c",
   "metadata": {},
   "outputs": [
    {
     "data": {
      "text/plain": [
       "array([[  0,   0,   0,   0,   0,   0,   0],\n",
       "       [  0,   0,   0, 113,   0,   0,   0],\n",
       "       [  0,   0,   0, 253,   0,   0,   0],\n",
       "       [  3,   0,   0, 206,   0,   0,   0],\n",
       "       [  2,   2,   1, 186,   0,   0,   0],\n",
       "       [  6,   2,   5, 238,   0,   0,   0],\n",
       "       [  0,   0,   0, 163,   0,   0,   0]], dtype=int64)"
      ]
     },
     "execution_count": 65,
     "metadata": {},
     "output_type": "execute_result"
    }
   ],
   "source": [
    "conf_mat = confusion_matrix(signal_test_y,pred_classes) \n",
    "conf_mat"
   ]
  },
  {
   "cell_type": "code",
   "execution_count": 66,
   "id": "0604dfaa",
   "metadata": {},
   "outputs": [
    {
     "data": {
      "text/plain": [
       "17.457627118644066"
      ]
     },
     "execution_count": 66,
     "metadata": {},
     "output_type": "execute_result"
    }
   ],
   "source": [
    "from sklearn.metrics import accuracy_score\n",
    "accuracy_score(signal_test_y,pred_classes)*100"
   ]
  },
  {
   "cell_type": "code",
   "execution_count": 67,
   "id": "2d843149",
   "metadata": {},
   "outputs": [
    {
     "data": {
      "text/plain": [
       "{'loss': [31.781476974487305,\n",
       "  31.781414031982422,\n",
       "  31.781417846679688,\n",
       "  31.781414031982422,\n",
       "  31.781410217285156,\n",
       "  31.78141975402832,\n",
       "  31.781417846679688,\n",
       "  31.78141975402832,\n",
       "  31.781417846679688,\n",
       "  31.781417846679688],\n",
       " 'accuracy': [0.09545454382896423,\n",
       "  0.10954545438289642,\n",
       "  0.11409091204404831,\n",
       "  0.17272727191448212,\n",
       "  0.16318181157112122,\n",
       "  0.16545455157756805,\n",
       "  0.13636364042758942,\n",
       "  0.1377272754907608,\n",
       "  0.12136363983154297,\n",
       "  0.10863636434078217],\n",
       " 'val_loss': [31.091297149658203,\n",
       "  31.09130096435547,\n",
       "  31.091297149658203,\n",
       "  31.091297149658203,\n",
       "  31.091297149658203,\n",
       "  31.091297149658203,\n",
       "  31.091297149658203,\n",
       "  31.091297149658203,\n",
       "  31.091297149658203,\n",
       "  31.091297149658203],\n",
       " 'val_accuracy': [0.17785844206809998,\n",
       "  0.09981851279735565,\n",
       "  0.09074410051107407,\n",
       "  0.1851179599761963,\n",
       "  0.17059890925884247,\n",
       "  0.17059890925884247,\n",
       "  0.17241379618644714,\n",
       "  0.17241379618644714,\n",
       "  0.1270417422056198,\n",
       "  0.17241379618644714]}"
      ]
     },
     "execution_count": 67,
     "metadata": {},
     "output_type": "execute_result"
    }
   ],
   "source": [
    "model1.history"
   ]
  },
  {
   "cell_type": "code",
   "execution_count": 68,
   "id": "97e8a428",
   "metadata": {},
   "outputs": [
    {
     "data": {
      "text/html": [
       "<div>\n",
       "<style scoped>\n",
       "    .dataframe tbody tr th:only-of-type {\n",
       "        vertical-align: middle;\n",
       "    }\n",
       "\n",
       "    .dataframe tbody tr th {\n",
       "        vertical-align: top;\n",
       "    }\n",
       "\n",
       "    .dataframe thead th {\n",
       "        text-align: right;\n",
       "    }\n",
       "</style>\n",
       "<table border=\"1\" class=\"dataframe\">\n",
       "  <thead>\n",
       "    <tr style=\"text-align: right;\">\n",
       "      <th></th>\n",
       "      <th>loss</th>\n",
       "      <th>accuracy</th>\n",
       "      <th>val_loss</th>\n",
       "      <th>val_accuracy</th>\n",
       "    </tr>\n",
       "  </thead>\n",
       "  <tbody>\n",
       "    <tr>\n",
       "      <th>0</th>\n",
       "      <td>31.781477</td>\n",
       "      <td>0.095455</td>\n",
       "      <td>31.091297</td>\n",
       "      <td>0.177858</td>\n",
       "    </tr>\n",
       "    <tr>\n",
       "      <th>1</th>\n",
       "      <td>31.781414</td>\n",
       "      <td>0.109545</td>\n",
       "      <td>31.091301</td>\n",
       "      <td>0.099819</td>\n",
       "    </tr>\n",
       "    <tr>\n",
       "      <th>2</th>\n",
       "      <td>31.781418</td>\n",
       "      <td>0.114091</td>\n",
       "      <td>31.091297</td>\n",
       "      <td>0.090744</td>\n",
       "    </tr>\n",
       "    <tr>\n",
       "      <th>3</th>\n",
       "      <td>31.781414</td>\n",
       "      <td>0.172727</td>\n",
       "      <td>31.091297</td>\n",
       "      <td>0.185118</td>\n",
       "    </tr>\n",
       "    <tr>\n",
       "      <th>4</th>\n",
       "      <td>31.781410</td>\n",
       "      <td>0.163182</td>\n",
       "      <td>31.091297</td>\n",
       "      <td>0.170599</td>\n",
       "    </tr>\n",
       "    <tr>\n",
       "      <th>5</th>\n",
       "      <td>31.781420</td>\n",
       "      <td>0.165455</td>\n",
       "      <td>31.091297</td>\n",
       "      <td>0.170599</td>\n",
       "    </tr>\n",
       "    <tr>\n",
       "      <th>6</th>\n",
       "      <td>31.781418</td>\n",
       "      <td>0.136364</td>\n",
       "      <td>31.091297</td>\n",
       "      <td>0.172414</td>\n",
       "    </tr>\n",
       "    <tr>\n",
       "      <th>7</th>\n",
       "      <td>31.781420</td>\n",
       "      <td>0.137727</td>\n",
       "      <td>31.091297</td>\n",
       "      <td>0.172414</td>\n",
       "    </tr>\n",
       "    <tr>\n",
       "      <th>8</th>\n",
       "      <td>31.781418</td>\n",
       "      <td>0.121364</td>\n",
       "      <td>31.091297</td>\n",
       "      <td>0.127042</td>\n",
       "    </tr>\n",
       "    <tr>\n",
       "      <th>9</th>\n",
       "      <td>31.781418</td>\n",
       "      <td>0.108636</td>\n",
       "      <td>31.091297</td>\n",
       "      <td>0.172414</td>\n",
       "    </tr>\n",
       "  </tbody>\n",
       "</table>\n",
       "</div>"
      ],
      "text/plain": [
       "        loss  accuracy   val_loss  val_accuracy\n",
       "0  31.781477  0.095455  31.091297      0.177858\n",
       "1  31.781414  0.109545  31.091301      0.099819\n",
       "2  31.781418  0.114091  31.091297      0.090744\n",
       "3  31.781414  0.172727  31.091297      0.185118\n",
       "4  31.781410  0.163182  31.091297      0.170599\n",
       "5  31.781420  0.165455  31.091297      0.170599\n",
       "6  31.781418  0.136364  31.091297      0.172414\n",
       "7  31.781420  0.137727  31.091297      0.172414\n",
       "8  31.781418  0.121364  31.091297      0.127042\n",
       "9  31.781418  0.108636  31.091297      0.172414"
      ]
     },
     "execution_count": 68,
     "metadata": {},
     "output_type": "execute_result"
    }
   ],
   "source": [
    "df1= pd.DataFrame(model1.history)\n",
    "df1"
   ]
  },
  {
   "cell_type": "code",
   "execution_count": 97,
   "id": "edf94ba1",
   "metadata": {},
   "outputs": [
    {
     "data": {
      "text/plain": [
       "<matplotlib.legend.Legend at 0x16c33a8c940>"
      ]
     },
     "execution_count": 97,
     "metadata": {},
     "output_type": "execute_result"
    },
    {
     "data": {
      "image/png": "[encoded data removed]",
      "text/plain": [
       "<Figure size 432x288 with 1 Axes>"
      ]
     },
     "metadata": {
      "needs_background": "light"
     },
     "output_type": "display_data"
    }
   ],
   "source": [
    "# plot 2 separate visuals\n",
    "# i. training loss and validation loss\n",
    "plt.plot(df1.val_loss,color='r',marker='*',label='Validation_loss')\n",
    "plt.plot(df1.loss,color='b',marker='.',label='training_loss')\n",
    "plt.legend()"
   ]
  },
  {
   "cell_type": "code",
   "execution_count": 98,
   "id": "2478f0cc",
   "metadata": {},
   "outputs": [
    {
     "data": {
      "text/plain": [
       "<matplotlib.legend.Legend at 0x16c33af56d0>"
      ]
     },
     "execution_count": 98,
     "metadata": {},
     "output_type": "execute_result"
    },
    {
     "data": {
      "image/png": "[encoded data removed]",
      "text/plain": [
       "<Figure size 432x288 with 1 Axes>"
      ]
     },
     "metadata": {
      "needs_background": "light"
     },
     "output_type": "display_data"
    }
   ],
   "source": [
    "# ii. training accuracy and validation accuracy\n",
    "plt.plot(df1.accuracy,color='r',marker='*',label='train_accuracy')\n",
    "plt.plot(df1.val_accuracy,color='b',marker='.',label='val_accuracy')\n",
    "plt.legend()"
   ]
  },
  {
   "cell_type": "code",
   "execution_count": 117,
   "id": "c1c66e4a",
   "metadata": {},
   "outputs": [
    {
     "name": "stdout",
     "output_type": "stream",
     "text": [
      "Epoch 1/8\n",
      "22/22 [==============================] - 0s 5ms/step - loss: 31.7814 - accuracy: 0.1023 - val_loss: 31.0913 - val_accuracy: 0.1978\n",
      "Epoch 2/8\n",
      "22/22 [==============================] - 0s 4ms/step - loss: 31.7814 - accuracy: 0.0736 - val_loss: 31.0913 - val_accuracy: 0.1978\n",
      "Epoch 3/8\n",
      "22/22 [==============================] - 0s 3ms/step - loss: 31.7814 - accuracy: 0.1018 - val_loss: 31.0913 - val_accuracy: 0.0000e+00\n",
      "Epoch 4/8\n",
      "22/22 [==============================] - 0s 3ms/step - loss: 31.7814 - accuracy: 0.0882 - val_loss: 31.0913 - val_accuracy: 0.1270\n",
      "Epoch 5/8\n",
      "22/22 [==============================] - 0s 4ms/step - loss: 31.7814 - accuracy: 0.1168 - val_loss: 31.0913 - val_accuracy: 0.0000e+00\n",
      "Epoch 6/8\n",
      "22/22 [==============================] - 0s 3ms/step - loss: 31.7814 - accuracy: 0.0950 - val_loss: 31.0913 - val_accuracy: 0.0000e+00\n",
      "Epoch 7/8\n",
      "22/22 [==============================] - 0s 4ms/step - loss: 31.7814 - accuracy: 0.0777 - val_loss: 31.0913 - val_accuracy: 0.1978\n",
      "Epoch 8/8\n",
      "22/22 [==============================] - 0s 4ms/step - loss: 31.7814 - accuracy: 0.1082 - val_loss: 31.0913 - val_accuracy: 0.0000e+00\n"
     ]
    }
   ],
   "source": [
    "#Design new architecture/update existing architecture in attempt to improve the performance of \n",
    "# after 6 epoch there is slight variation between training and validation loss , so lets limit epochs=6\n",
    "model1 = model.fit(signal_train_x,signal_train_y,epochs=8,validation_split=0.2, batch_size=100)"
   ]
  },
  {
   "cell_type": "code",
   "execution_count": 118,
   "id": "a55ca247",
   "metadata": {},
   "outputs": [
    {
     "name": "stdout",
     "output_type": "stream",
     "text": [
      "37/37 [==============================] - 0s 1ms/step\n"
     ]
    },
    {
     "data": {
      "text/plain": [
       "array([[0.16666715, 0.16666865, 0.16666572, 0.1666661 , 0.16666545,\n",
       "        0.16666694],\n",
       "       [0.16666715, 0.16666865, 0.16666572, 0.1666661 , 0.16666545,\n",
       "        0.16666694],\n",
       "       [0.16666715, 0.16666865, 0.16666572, 0.1666661 , 0.16666545,\n",
       "        0.16666694],\n",
       "       ...,\n",
       "       [0.16666715, 0.16666865, 0.16666572, 0.1666661 , 0.16666545,\n",
       "        0.16666694],\n",
       "       [0.16666715, 0.16666865, 0.16666572, 0.1666661 , 0.16666545,\n",
       "        0.16666694],\n",
       "       [0.16666715, 0.16666865, 0.16666572, 0.1666661 , 0.16666545,\n",
       "        0.16666694]], dtype=float32)"
      ]
     },
     "execution_count": 118,
     "metadata": {},
     "output_type": "execute_result"
    }
   ],
   "source": [
    "pred_val = model.predict(signal_test_x)\n",
    "pred_val"
   ]
  },
  {
   "cell_type": "code",
   "execution_count": 119,
   "id": "9299b3be",
   "metadata": {},
   "outputs": [
    {
     "data": {
      "text/plain": [
       "array([1, 1, 1, ..., 1, 1, 1], dtype=int64)"
      ]
     },
     "execution_count": 119,
     "metadata": {},
     "output_type": "execute_result"
    }
   ],
   "source": [
    "pred_classes = np.argmax(pred_val,axis=1)\n",
    "pred_classes"
   ]
  },
  {
   "cell_type": "code",
   "execution_count": 120,
   "id": "ecd07f24",
   "metadata": {},
   "outputs": [
    {
     "data": {
      "text/plain": [
       "{'loss': [31.781417846679688,\n",
       "  31.781414031982422,\n",
       "  31.781410217285156,\n",
       "  31.781417846679688,\n",
       "  31.781414031982422,\n",
       "  31.781417846679688,\n",
       "  31.781417846679688,\n",
       "  31.781414031982422],\n",
       " 'accuracy': [0.10227272659540176,\n",
       "  0.07363636046648026,\n",
       "  0.10181818157434464,\n",
       "  0.08818181604146957,\n",
       "  0.11681818217039108,\n",
       "  0.0949999988079071,\n",
       "  0.07772727310657501,\n",
       "  0.10818181931972504],\n",
       " 'val_loss': [31.091297149658203,\n",
       "  31.091297149658203,\n",
       "  31.091297149658203,\n",
       "  31.091297149658203,\n",
       "  31.09130096435547,\n",
       "  31.091297149658203,\n",
       "  31.091297149658203,\n",
       "  31.09130096435547],\n",
       " 'val_accuracy': [0.19782213866710663,\n",
       "  0.19782213866710663,\n",
       "  0.0,\n",
       "  0.1270417422056198,\n",
       "  0.0,\n",
       "  0.0,\n",
       "  0.19782213866710663,\n",
       "  0.0]}"
      ]
     },
     "execution_count": 120,
     "metadata": {},
     "output_type": "execute_result"
    }
   ],
   "source": [
    "model1.history"
   ]
  },
  {
   "cell_type": "code",
   "execution_count": 121,
   "id": "e649368c",
   "metadata": {},
   "outputs": [
    {
     "data": {
      "text/html": [
       "<div>\n",
       "<style scoped>\n",
       "    .dataframe tbody tr th:only-of-type {\n",
       "        vertical-align: middle;\n",
       "    }\n",
       "\n",
       "    .dataframe tbody tr th {\n",
       "        vertical-align: top;\n",
       "    }\n",
       "\n",
       "    .dataframe thead th {\n",
       "        text-align: right;\n",
       "    }\n",
       "</style>\n",
       "<table border=\"1\" class=\"dataframe\">\n",
       "  <thead>\n",
       "    <tr style=\"text-align: right;\">\n",
       "      <th></th>\n",
       "      <th>loss</th>\n",
       "      <th>accuracy</th>\n",
       "      <th>val_loss</th>\n",
       "      <th>val_accuracy</th>\n",
       "    </tr>\n",
       "  </thead>\n",
       "  <tbody>\n",
       "    <tr>\n",
       "      <th>0</th>\n",
       "      <td>31.781418</td>\n",
       "      <td>0.102273</td>\n",
       "      <td>31.091297</td>\n",
       "      <td>0.197822</td>\n",
       "    </tr>\n",
       "    <tr>\n",
       "      <th>1</th>\n",
       "      <td>31.781414</td>\n",
       "      <td>0.073636</td>\n",
       "      <td>31.091297</td>\n",
       "      <td>0.197822</td>\n",
       "    </tr>\n",
       "    <tr>\n",
       "      <th>2</th>\n",
       "      <td>31.781410</td>\n",
       "      <td>0.101818</td>\n",
       "      <td>31.091297</td>\n",
       "      <td>0.000000</td>\n",
       "    </tr>\n",
       "    <tr>\n",
       "      <th>3</th>\n",
       "      <td>31.781418</td>\n",
       "      <td>0.088182</td>\n",
       "      <td>31.091297</td>\n",
       "      <td>0.127042</td>\n",
       "    </tr>\n",
       "    <tr>\n",
       "      <th>4</th>\n",
       "      <td>31.781414</td>\n",
       "      <td>0.116818</td>\n",
       "      <td>31.091301</td>\n",
       "      <td>0.000000</td>\n",
       "    </tr>\n",
       "    <tr>\n",
       "      <th>5</th>\n",
       "      <td>31.781418</td>\n",
       "      <td>0.095000</td>\n",
       "      <td>31.091297</td>\n",
       "      <td>0.000000</td>\n",
       "    </tr>\n",
       "    <tr>\n",
       "      <th>6</th>\n",
       "      <td>31.781418</td>\n",
       "      <td>0.077727</td>\n",
       "      <td>31.091297</td>\n",
       "      <td>0.197822</td>\n",
       "    </tr>\n",
       "    <tr>\n",
       "      <th>7</th>\n",
       "      <td>31.781414</td>\n",
       "      <td>0.108182</td>\n",
       "      <td>31.091301</td>\n",
       "      <td>0.000000</td>\n",
       "    </tr>\n",
       "  </tbody>\n",
       "</table>\n",
       "</div>"
      ],
      "text/plain": [
       "        loss  accuracy   val_loss  val_accuracy\n",
       "0  31.781418  0.102273  31.091297      0.197822\n",
       "1  31.781414  0.073636  31.091297      0.197822\n",
       "2  31.781410  0.101818  31.091297      0.000000\n",
       "3  31.781418  0.088182  31.091297      0.127042\n",
       "4  31.781414  0.116818  31.091301      0.000000\n",
       "5  31.781418  0.095000  31.091297      0.000000\n",
       "6  31.781418  0.077727  31.091297      0.197822\n",
       "7  31.781414  0.108182  31.091301      0.000000"
      ]
     },
     "execution_count": 121,
     "metadata": {},
     "output_type": "execute_result"
    }
   ],
   "source": [
    "df2= pd.DataFrame(model1.history)\n",
    "df2"
   ]
  },
  {
   "cell_type": "code",
   "execution_count": 122,
   "id": "bbebbad2",
   "metadata": {},
   "outputs": [
    {
     "data": {
      "text/plain": [
       "<matplotlib.legend.Legend at 0x16c3507efa0>"
      ]
     },
     "execution_count": 122,
     "metadata": {},
     "output_type": "execute_result"
    },
    {
     "data": {
      "image/png": "[encoded data removed]",
      "text/plain": [
       "<Figure size 432x288 with 1 Axes>"
      ]
     },
     "metadata": {
      "needs_background": "light"
     },
     "output_type": "display_data"
    }
   ],
   "source": [
    "#plot visuals as in Q3.C and share insights about difference observed in both the models\n",
    "plt.plot(df2.val_loss,color='r',marker='*',label='Validation_loss')\n",
    "plt.plot(df2.loss,color='b',marker='.',label='training_loss')\n",
    "plt.legend()"
   ]
  },
  {
   "cell_type": "code",
   "execution_count": 123,
   "id": "55118c9f",
   "metadata": {},
   "outputs": [
    {
     "data": {
      "text/plain": [
       "<matplotlib.legend.Legend at 0x16c29ed02e0>"
      ]
     },
     "execution_count": 123,
     "metadata": {},
     "output_type": "execute_result"
    },
    {
     "data": {
      "image/png": "[encoded data removed]",
      "text/plain": [
       "<Figure size 432x288 with 1 Axes>"
      ]
     },
     "metadata": {
      "needs_background": "light"
     },
     "output_type": "display_data"
    }
   ],
   "source": [
    "# ii. training accuracy and validation accuracy\n",
    "plt.plot(df2.accuracy,color='r',marker='*',label='train_accuracy')\n",
    "plt.plot(df2.val_accuracy,color='b',marker='.',label='val_accuracy')\n",
    "plt.legend()"
   ]
  },
  {
   "cell_type": "markdown",
   "id": "1d03260f",
   "metadata": {},
   "source": [
    "# Conclusion"
   ]
  },
  {
   "cell_type": "markdown",
   "id": "9c9d4eba",
   "metadata": {},
   "source": [
    "As we increse layers in neural network, in becomes more deeper and require more data to learn. Hence they are called Data Hungry models. Given data is comparatively insufficient and complex. Because there are very few records of some classes ,causing class imbalance. Hence model is getting overfitted even though hyper parameters are tuned. "
   ]
  }
 ],
 "metadata": {
  "kernelspec": {
   "display_name": "Python 3 (ipykernel)",
   "language": "python",
   "name": "python3"
  },
  "language_info": {
   "codemirror_mode": {
    "name": "ipython",
    "version": 3
   },
   "file_extension": ".py",
   "mimetype": "text/x-python",
   "name": "python",
   "nbconvert_exporter": "python",
   "pygments_lexer": "ipython3",
   "version": "3.9.12"
  }
 },
 "nbformat": 4,
 "nbformat_minor": 5
}
